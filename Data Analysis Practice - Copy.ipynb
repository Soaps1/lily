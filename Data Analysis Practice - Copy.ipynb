{
 "cells": [
  {
   "cell_type": "markdown",
   "id": "0a50e6c8",
   "metadata": {},
   "source": [
    "# Class 3 - Practice"
   ]
  },
  {
   "cell_type": "markdown",
   "id": "d46ed684",
   "metadata": {},
   "source": [
    "The following questions will require you to perform data analysis using the `Pandas` and `Matplotlib` libraries on the Dig data, specifically the Orders and Summarized Orders data sets."
   ]
  },
  {
   "cell_type": "markdown",
   "id": "471d734f",
   "metadata": {},
   "source": [
    "## New Product Analysis"
   ]
  },
  {
   "cell_type": "markdown",
   "id": "bbc89412",
   "metadata": {},
   "source": [
    "Dig is considering launching a new line of drinks on its own. How might Dig use its data to decide at which restaurant to launch this new product line, and when in the year to do it?"
   ]
  },
  {
   "cell_type": "markdown",
   "id": "dd08f06f",
   "metadata": {},
   "source": [
    "## Designing Dig's Delivery-Specific Menu"
   ]
  },
  {
   "cell_type": "markdown",
   "id": "006c62ea",
   "metadata": {},
   "source": [
    "Dig is considering redesigning its delivery menu to provide for a better customer experience. What options should Dig include in that menu? Specifically:\n",
    "- What's the most popular main?\n",
    "- What's the most popular base?\n",
    "- What main is most popular with which base?\n",
    "- How does this all relate to sides?"
   ]
  },
  {
   "cell_type": "markdown",
   "id": "5330a707",
   "metadata": {},
   "source": [
    "## Designing Staffing Schedules"
   ]
  },
  {
   "cell_type": "markdown",
   "id": "7e147870",
   "metadata": {},
   "source": [
    "How might we use our data to facilitate a process of designing staffing schedules? Use data to analyze the distribution of orders throughout the day at each restaurant"
   ]
  },
  {
   "cell_type": "markdown",
   "id": "bd6d680a",
   "metadata": {},
   "source": [
    "## Summarizing Orders"
   ]
  },
  {
   "cell_type": "markdown",
   "id": "5f9a17a8",
   "metadata": {},
   "source": [
    "Use the Orders data set to recreate the Summarized Orders dataset. We'll want to aggregate all the orders by day and by restaurant."
   ]
  },
  {
   "cell_type": "markdown",
   "id": "3bc9db15",
   "metadata": {},
   "source": [
    "## Exploring A New Delivery Service"
   ]
  },
  {
   "cell_type": "markdown",
   "id": "e7f0d5dc",
   "metadata": {},
   "source": [
    "Previously we explored a new delivery service from the perspective of a new menu. Now let's decide which restaurants we'd want to use as a pilot."
   ]
  },
  {
   "cell_type": "markdown",
   "id": "c19966bb",
   "metadata": {},
   "source": [
    "## Customer Research: Are Salad Eaters Healthier?"
   ]
  },
  {
   "cell_type": "markdown",
   "id": "0fc8183a",
   "metadata": {},
   "source": [
    "There are three possible bases – salad, farro, and rice. Are people who order salads more or less likely to choose lower-calorie options?\n",
    "\n",
    "The questions we'll explore are:\n",
    "1. Do people who order bowls with salad bases order fewer cookies? \n",
    "2. Is the mix of sides different for those who order bowls with salad bases?"
   ]
  },
  {
   "cell_type": "markdown",
   "id": "a2f4caa5",
   "metadata": {},
   "source": [
    "## Orders and Weather"
   ]
  },
  {
   "cell_type": "markdown",
   "id": "fcfc2753",
   "metadata": {},
   "source": [
    "The final thing we'll analyze is whether there's a relationship between order patterns and the weather. Some questions to explore:\n",
    "- Does the proportion of delivery orders depend on the weather? In the winter are there more deliveries?\n",
    "- Does the temperature outside affect the number of drinks customers order?"
   ]
  }
 ],
 "metadata": {
  "kernelspec": {
   "display_name": "Python 3 (ipykernel)",
   "language": "python",
   "name": "python3"
  },
  "language_info": {
   "codemirror_mode": {
    "name": "ipython",
    "version": 3
   },
   "file_extension": ".py",
   "mimetype": "text/x-python",
   "name": "python",
   "nbconvert_exporter": "python",
   "pygments_lexer": "ipython3",
   "version": "3.9.7"
  }
 },
 "nbformat": 4,
 "nbformat_minor": 5
}
